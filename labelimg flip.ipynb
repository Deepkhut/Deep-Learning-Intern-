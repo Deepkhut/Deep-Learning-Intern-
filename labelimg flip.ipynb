{
 "cells": [
  {
   "cell_type": "code",
   "execution_count": 1,
   "id": "32c5035d",
   "metadata": {},
   "outputs": [],
   "source": [
    "import json                                                         # this module is used to read json files\n",
    "import os \n",
    "from PIL import Image\n",
    "import matplotlib.pyplot as plt \n",
    "path = \"D:/test 9/photo/\"\n",
    "dirs = os.listdir(path)\n",
    "\n",
    "for item in dirs:\n",
    "    if os.path.isfile(path+item):\n",
    "        img = Image.open(path+item)\n",
    "        f, e = os.path.splitext(path+item)\n",
    "        flip_img = img.transpose(Image.FLIP_LEFT_RIGHT)\n",
    "        flip_img.save(f+'_flip'+'.bmp')"
   ]
  },
  {
   "cell_type": "code",
   "execution_count": 14,
   "id": "4846e41c",
   "metadata": {},
   "outputs": [],
   "source": [
    "# g=file.split(\".\")# for each file in the folder\n",
    "txt_outfile = open(\"D:/test 9/70_image_4029_flip.txt\",'r') #creating labelimg/YOLO files of same name\n",
    "txt_outfile.read()\n",
    "txt_outfile.seek(0)\n",
    "txt_outfile.close()"
   ]
  },
  {
   "cell_type": "code",
   "execution_count": 2,
   "id": "db3d4cdb",
   "metadata": {},
   "outputs": [
    {
     "name": "stdout",
     "output_type": "stream",
     "text": [
      "RangeIndex(start=0, stop=17, step=1)\n"
     ]
    }
   ],
   "source": [
    "import pandas as pd\n",
    "dk = pd.read_table(\"D:/test 9/70_image_4030_flip.txt\",delimiter=\" \")\n",
    "\n",
    "print(dk.index)"
   ]
  },
  {
   "cell_type": "code",
   "execution_count": 3,
   "id": "a9b7dbf8",
   "metadata": {},
   "outputs": [
    {
     "name": "stdout",
     "output_type": "stream",
     "text": [
      "    0  0.922172  0.280423  0.063830  0.222222\n",
      "0   0  0.829787  0.296296  0.064950  0.222222\n",
      "1   0  0.736842  0.309524  0.064950  0.238095\n",
      "2   0  0.592945  0.301587  0.066069  0.232804\n",
      "3   0  0.497200  0.314815  0.067189  0.238095\n",
      "4   0  0.402576  0.312169  0.068309  0.232804\n",
      "5   0  0.259798  0.317460  0.067189  0.232804\n",
      "6   0  0.167413  0.312169  0.063830  0.232804\n",
      "7   0  0.080067  0.320106  0.061590  0.227513\n",
      "8   0  0.921613  0.711640  0.060470  0.227513\n",
      "9   0  0.828108  0.722222  0.061590  0.238095\n",
      "10  0  0.735722  0.701058  0.064950  0.216931\n",
      "11  0  0.591265  0.738095  0.067189  0.227513\n",
      "12  0  0.494401  0.735450  0.066069  0.232804\n",
      "13  0  0.400336  0.740741  0.066069  0.222222\n",
      "14  0  0.262038  0.727513  0.062710  0.259259\n",
      "15  0  0.171333  0.735450  0.064950  0.232804\n",
      "16  0  0.082307  0.730159  0.063830  0.222222\n"
     ]
    },
    {
     "ename": "NameError",
     "evalue": "name 'tabulate' is not defined",
     "output_type": "error",
     "traceback": [
      "\u001b[1;31m---------------------------------------------------------------------------\u001b[0m",
      "\u001b[1;31mNameError\u001b[0m                                 Traceback (most recent call last)",
      "Cell \u001b[1;32mIn[3], line 5\u001b[0m\n\u001b[0;32m      3\u001b[0m \u001b[38;5;66;03m# display DataFrame\u001b[39;00m\n\u001b[0;32m      4\u001b[0m \u001b[38;5;28mprint\u001b[39m(df)\n\u001b[1;32m----> 5\u001b[0m df \u001b[38;5;241m=\u001b[39m \u001b[43mtabulate\u001b[49m(df)\n\u001b[0;32m      6\u001b[0m \u001b[38;5;28mprint\u001b[39m(df)\n",
      "\u001b[1;31mNameError\u001b[0m: name 'tabulate' is not defined"
     ]
    }
   ],
   "source": [
    "df = pd.read_fwf(\"D:/test 9/70_image_4030_flip.txt\")\n",
    "  \n",
    "# display DataFrame\n",
    "print(df)\n",
    "df = tabulate(df)\n",
    "print(df)"
   ]
  },
  {
   "cell_type": "code",
   "execution_count": 5,
   "id": "fbc012b5",
   "metadata": {},
   "outputs": [
    {
     "ename": "SyntaxError",
     "evalue": "invalid syntax (4165518314.py, line 5)",
     "output_type": "error",
     "traceback": [
      "\u001b[1;36m  Cell \u001b[1;32mIn[5], line 5\u001b[1;36m\u001b[0m\n\u001b[1;33m    for i in (len(data))\u001b[0m\n\u001b[1;37m                        ^\u001b[0m\n\u001b[1;31mSyntaxError\u001b[0m\u001b[1;31m:\u001b[0m invalid syntax\n"
     ]
    }
   ],
   "source": [
    "import pandas as pd\n",
    "data = pd.read_csv('D:/test 9/70_image_4029_flip.txt', sep=\" \", header=None)\n",
    "data[1] = 1- data[1]\n",
    "\n",
    "for i in (len(data))\n",
    "print(data[1][0])\n",
    "\n",
    "# txt_outfile = open(\"D:/test 9/70_image_4030_flip.txt\",'r+') #creating labelimg/YOLO files of same name\n",
    "# txt_outfile.write(str(data))\n",
    "# txt_outfile.seek(0)\n",
    "# txt_outfile.close()"
   ]
  },
  {
   "cell_type": "code",
   "execution_count": 6,
   "id": "6c52f1ad",
   "metadata": {},
   "outputs": [
    {
     "ename": "NameError",
     "evalue": "name 'result' is not defined",
     "output_type": "error",
     "traceback": [
      "\u001b[1;31m---------------------------------------------------------------------------\u001b[0m",
      "\u001b[1;31mNameError\u001b[0m                                 Traceback (most recent call last)",
      "Cell \u001b[1;32mIn[6], line 5\u001b[0m\n\u001b[0;32m      3\u001b[0m lines\u001b[38;5;241m=\u001b[39mf\u001b[38;5;241m.\u001b[39mreadlines()\n\u001b[0;32m      4\u001b[0m \u001b[38;5;28;01mfor\u001b[39;00m x \u001b[38;5;129;01min\u001b[39;00m lines:\n\u001b[1;32m----> 5\u001b[0m     \u001b[43mresult\u001b[49m\u001b[38;5;241m.\u001b[39mappend(x\u001b[38;5;241m.\u001b[39msplit(\u001b[38;5;124m'\u001b[39m\u001b[38;5;124m \u001b[39m\u001b[38;5;124m'\u001b[39m)[\u001b[38;5;241m1\u001b[39m])\n\u001b[0;32m      6\u001b[0m \u001b[38;5;28mprint\u001b[39m(result)\n\u001b[0;32m      7\u001b[0m f\u001b[38;5;241m.\u001b[39mclose()\n",
      "\u001b[1;31mNameError\u001b[0m: name 'result' is not defined"
     ]
    }
   ],
   "source": [
    "import numpy as np\n",
    "f=open('D:/test 9/70_image_4029_flip.txt',\"r+\")\n",
    "lines=f.readlines()\n",
    "for x in lines:\n",
    "    result.append(x.split(' ')[1])\n",
    "print(result)\n",
    "f.close()\n"
   ]
  },
  {
   "cell_type": "code",
   "execution_count": 7,
   "id": "2e29e544",
   "metadata": {},
   "outputs": [
    {
     "name": "stdout",
     "output_type": "stream",
     "text": [
      "[[0.077828 0.280423 0.06383  0.222222]\n",
      " [0.170213 0.296296 0.06495  0.222222]\n",
      " [0.263158 0.309524 0.06495  0.238095]\n",
      " [0.407055 0.301587 0.066069 0.232804]\n",
      " [0.5028   0.314815 0.067189 0.238095]\n",
      " [0.597424 0.312169 0.068309 0.232804]\n",
      " [0.740202 0.31746  0.067189 0.232804]\n",
      " [0.832587 0.312169 0.06383  0.232804]\n",
      " [0.919933 0.320106 0.06159  0.227513]\n",
      " [0.078387 0.71164  0.06047  0.227513]\n",
      " [0.171892 0.722222 0.06159  0.238095]\n",
      " [0.264278 0.701058 0.06495  0.216931]\n",
      " [0.408735 0.738095 0.067189 0.227513]\n",
      " [0.505599 0.73545  0.066069 0.232804]\n",
      " [0.599664 0.740741 0.066069 0.222222]\n",
      " [0.737962 0.727513 0.06271  0.259259]\n",
      " [0.828667 0.73545  0.06495  0.232804]\n",
      " [0.917693 0.730159 0.06383  0.222222]]\n",
      "[0.077828 0.170213 0.263158 0.407055 0.5028   0.597424 0.740202 0.832587\n",
      " 0.919933 0.078387 0.171892 0.264278 0.408735 0.505599 0.599664 0.737962\n",
      " 0.828667 0.917693]\n"
     ]
    }
   ],
   "source": [
    "import numpy as np\n",
    "a = np.loadtxt(\"D:/test 9/70_image_4030_flip.txt\")[:,1::]\n",
    "b= np.loadtxt(\"D:/test 9/70_image_4030_flip.txt\")[:, 1]\n",
    "r,c=np.shape(a)\n",
    "# for i in range(len(b)):\n",
    "#     b[i]=1-b[i]\n",
    "i=0\n",
    "for ele in a[:,0]:\n",
    "    ele=1-ele\n",
    "    a[i,0]=ele\n",
    "    i+=1\n",
    "print(a)\n",
    "\n",
    "# for i in range (len(a[:,0])):\n",
    "#     d[i,0] = int(a[i,0])\n",
    "print(a[:,0])\n",
    "b= 0+a\n",
    "np.savetxt('D:/test 9/70_image_4032_flip.txt',a,fmt='%-7.6f')\n",
    "# txt_outfile = open(\"D:/test 9/70_image_4032_flip.txt\",'r+') #creating labelimg/YOLO files of same name\n",
    "# txt_outfile.write(\"\"+\" \"+  '\\n')\n",
    "# txt_outfile.seek(0)\n",
    "# txt_outfile.close()"
   ]
  },
  {
   "cell_type": "code",
   "execution_count": 8,
   "id": "2ae4efa9",
   "metadata": {},
   "outputs": [],
   "source": [
    "f = open ( 'D:/test 9/70_image_4029_flip.txt' , 'r+')\n",
    "l = [ map(str,line.split('\\t')) for line in f ]"
   ]
  },
  {
   "cell_type": "code",
   "execution_count": 9,
   "id": "2f8ce3a0",
   "metadata": {},
   "outputs": [
    {
     "name": "stdout",
     "output_type": "stream",
     "text": [
      "<_io.TextIOWrapper name='D:/test 9/70_image_4029_flip.txt' mode='r+' encoding='cp1252'>\n"
     ]
    }
   ],
   "source": [
    "print(f)"
   ]
  },
  {
   "cell_type": "code",
   "execution_count": 10,
   "id": "bf10211c",
   "metadata": {},
   "outputs": [],
   "source": [
    "f = open ( 'D:/test 9/70_image_4029_flip.txt' , 'r+')\n",
    "\n",
    "rows = []\n",
    "for line in f:\n",
    "    # Split on any whitespace (including tab characters)\n",
    "    row = line.split()\n",
    "    # Convert strings to numeric values:\n",
    "\n",
    "\n",
    "    # Append to our list of lists:\n",
    "    rows.append(row)\n",
    "\n"
   ]
  },
  {
   "cell_type": "code",
   "execution_count": 11,
   "id": "55be4591",
   "metadata": {},
   "outputs": [],
   "source": [
    "from tabulate import tabulate\n",
    "# assign data\n",
    "mydata = [\n",
    "    [\"Nikhil\", \"Delhi\"],\n",
    "    [\"Ravi\", \"Kanpur\"],\n",
    "    [\"Manish\", \"Ahmedabad\"],\n",
    "      [\"Prince\", \"Bangalore\"]\n",
    "]\n",
    " \n",
    "# create header\n",
    "head = [\"Name\", \"City\"]\n",
    " \n",
    "# display table\n",
    "x = tabulate(a, tablefmt=\"plain\")"
   ]
  },
  {
   "cell_type": "code",
   "execution_count": 12,
   "id": "2fdb0d61",
   "metadata": {},
   "outputs": [],
   "source": [
    "with open('table.txt', 'w') as f:\n",
    "    f.write(x)"
   ]
  },
  {
   "cell_type": "code",
   "execution_count": 72,
   "id": "28a3099d",
   "metadata": {},
   "outputs": [
    {
     "name": "stdout",
     "output_type": "stream",
     "text": [
      "[[0.       0.922172 0.280423 0.06383  0.222222]\n",
      " [0.       0.829787 0.296296 0.06495  0.222222]\n",
      " [0.       0.736842 0.309524 0.06495  0.238095]\n",
      " [0.       0.592945 0.301587 0.066069 0.232804]\n",
      " [0.       0.4972   0.314815 0.067189 0.238095]\n",
      " [0.       0.402576 0.312169 0.068309 0.232804]\n",
      " [0.       0.259798 0.31746  0.067189 0.232804]\n",
      " [0.       0.167413 0.312169 0.06383  0.232804]\n",
      " [0.       0.080067 0.320106 0.06159  0.227513]\n",
      " [0.       0.921613 0.71164  0.06047  0.227513]\n",
      " [0.       0.828108 0.722222 0.06159  0.238095]\n",
      " [0.       0.735722 0.701058 0.06495  0.216931]\n",
      " [0.       0.591265 0.738095 0.067189 0.227513]\n",
      " [0.       0.494401 0.73545  0.066069 0.232804]\n",
      " [0.       0.400336 0.740741 0.066069 0.222222]\n",
      " [0.       0.262038 0.727513 0.06271  0.259259]\n",
      " [0.       0.171333 0.73545  0.06495  0.232804]\n",
      " [0.       0.082307 0.730159 0.06383  0.222222]]\n",
      "0  0.922172  0.280423  0.063830  0.222222\n",
      "0  0.829787  0.296296  0.064950  0.222222\n",
      "0  0.736842  0.309524  0.064950  0.238095\n",
      "0  0.592945  0.301587  0.066069  0.232804\n",
      "0  0.497200  0.314815  0.067189  0.238095\n",
      "0  0.402576  0.312169  0.068309  0.232804\n",
      "0  0.259798  0.317460  0.067189  0.232804\n",
      "0  0.167413  0.312169  0.063830  0.232804\n",
      "0  0.080067  0.320106  0.061590  0.227513\n",
      "0  0.921613  0.711640  0.060470  0.227513\n",
      "0  0.828108  0.722222  0.061590  0.238095\n",
      "0  0.735722  0.701058  0.064950  0.216931\n",
      "0  0.591265  0.738095  0.067189  0.227513\n",
      "0  0.494401  0.735450  0.066069  0.232804\n",
      "0  0.400336  0.740741  0.066069  0.222222\n",
      "0  0.262038  0.727513  0.062710  0.259259\n",
      "0  0.171333  0.735450  0.064950  0.232804\n",
      "0  0.082307  0.730159  0.063830  0.222222\n"
     ]
    }
   ],
   "source": [
    "import numpy as np\n",
    "from tabulate import tabulate\n",
    "a = np.loadtxt(\"D:/test 9/70_image_4030_flip.txt\")\n",
    "\n",
    "i=0\n",
    "for ele in a[:,1]:\n",
    "    ele=1-ele\n",
    "    a[i,1]=ele\n",
    "    i+=1\n",
    "print(a)\n",
    "a =  tabulate(a,tablefmt=\"plain\",floatfmt=(\".0f\", \".6f\",\".6f\",\".6f\",\".6f\"),colalign=(\"left\"))\n",
    "print(a)\n",
    "\n",
    "with open('D:/test 9/70_image_4030_flip.txt', 'w') as f:\n",
    "    f.write(a.replace(\"  \",\" \"))\n",
    "\n",
    "\n"
   ]
  },
  {
   "cell_type": "code",
   "execution_count": 14,
   "id": "971414e4",
   "metadata": {},
   "outputs": [],
   "source": [
    "# r,c=a.shape\n",
    "# print(r,c)\n",
    "# i=0\n",
    "# j=0\n",
    "# print(len(a))\n",
    "# for i in len(a):\n",
    "#     print(\" \")\n",
    "#     for j in i:\n",
    "#         print(j,end=\" \")\n",
    "        "
   ]
  },
  {
   "cell_type": "code",
   "execution_count": 65,
   "id": "4d9aab52",
   "metadata": {
    "scrolled": true
   },
   "outputs": [
    {
     "name": "stdout",
     "output_type": "stream",
     "text": [
      "1\n",
      "2\n",
      "11\n",
      "12\n",
      "21\n",
      "22\n",
      "31\n",
      "32\n",
      "43\n",
      "44\n",
      "53\n",
      "54\n",
      "63\n",
      "64\n",
      "73\n",
      "74\n",
      "85\n",
      "86\n",
      "95\n",
      "96\n",
      "105\n",
      "106\n",
      "115\n",
      "116\n",
      "127\n",
      "128\n",
      "137\n",
      "138\n",
      "147\n",
      "148\n",
      "157\n",
      "158\n",
      "169\n",
      "170\n",
      "179\n",
      "180\n",
      "189\n",
      "190\n",
      "199\n",
      "200\n",
      "211\n",
      "212\n",
      "221\n",
      "222\n",
      "231\n",
      "232\n",
      "241\n",
      "242\n",
      "253\n",
      "254\n",
      "263\n",
      "264\n",
      "273\n",
      "274\n",
      "283\n",
      "284\n",
      "295\n",
      "296\n",
      "305\n",
      "306\n",
      "315\n",
      "316\n",
      "325\n",
      "326\n",
      "337\n",
      "338\n",
      "347\n",
      "348\n",
      "357\n",
      "358\n",
      "367\n",
      "368\n",
      "379\n",
      "380\n",
      "389\n",
      "390\n",
      "399\n",
      "400\n",
      "409\n",
      "410\n",
      "421\n",
      "422\n",
      "431\n",
      "432\n",
      "441\n",
      "442\n",
      "451\n",
      "452\n",
      "463\n",
      "464\n",
      "473\n",
      "474\n",
      "483\n",
      "484\n",
      "493\n",
      "494\n",
      "505\n",
      "506\n",
      "515\n",
      "516\n",
      "525\n",
      "526\n",
      "535\n",
      "536\n",
      "547\n",
      "548\n",
      "557\n",
      "558\n",
      "567\n",
      "568\n",
      "577\n",
      "578\n",
      "589\n",
      "590\n",
      "599\n",
      "600\n",
      "609\n",
      "610\n",
      "619\n",
      "620\n",
      "631\n",
      "632\n",
      "641\n",
      "642\n",
      "651\n",
      "652\n",
      "661\n",
      "662\n",
      "673\n",
      "674\n",
      "683\n",
      "684\n",
      "693\n",
      "694\n",
      "703\n",
      "704\n",
      "715\n",
      "716\n",
      "725\n",
      "726\n",
      "735\n",
      "736\n",
      "745\n",
      "746\n",
      "0  0.922172  0.280423  0.063830  0.222222\n",
      "0  0.829787  0.296296  0.064950  0.222222\n",
      "0  0.736842  0.309524  0.064950  0.238095\n",
      "0  0.592945  0.301587  0.066069  0.232804\n",
      "0  0.497200  0.314815  0.067189  0.238095\n",
      "0  0.402576  0.312169  0.068309  0.232804\n",
      "0  0.259798  0.317460  0.067189  0.232804\n",
      "0  0.167413  0.312169  0.063830  0.232804\n",
      "0  0.080067  0.320106  0.061590  0.227513\n",
      "0  0.921613  0.711640  0.060470  0.227513\n",
      "0  0.828108  0.722222  0.061590  0.238095\n",
      "0  0.735722  0.701058  0.064950  0.216931\n",
      "0  0.591265  0.738095  0.067189  0.227513\n",
      "0  0.494401  0.735450  0.066069  0.232804\n",
      "0  0.400336  0.740741  0.066069  0.222222\n",
      "0  0.262038  0.727513  0.062710  0.259259\n",
      "0  0.171333  0.735450  0.064950  0.232804\n",
      "0  0.082307  0.730159  0.063830  0.222222\n"
     ]
    }
   ],
   "source": [
    "for index,i in enumerate(a):\n",
    "    if(i==\" \" and i==\" \"):\n",
    "        a.replace(\" \",\"\")\n",
    "        print(index)\n",
    "print(a)"
   ]
  },
  {
   "cell_type": "code",
   "execution_count": 52,
   "id": "d2de1708",
   "metadata": {},
   "outputs": [
    {
     "name": "stdout",
     "output_type": "stream",
     "text": [
      "0  0.922172  0.280423  0.063830  0.222222\n",
      "0  0.829787  0.296296  0.064950  0.222222\n",
      "0  0.736842  0.309524  0.064950  0.238095\n",
      "0  0.592945  0.301587  0.066069  0.232804\n",
      "0  0.497200  0.314815  0.067189  0.238095\n",
      "0  0.402576  0.312169  0.068309  0.232804\n",
      "0  0.259798  0.317460  0.067189  0.232804\n",
      "0  0.167413  0.312169  0.063830  0.232804\n",
      "0  0.080067  0.320106  0.061590  0.227513\n",
      "0  0.921613  0.711640  0.060470  0.227513\n",
      "0  0.828108  0.722222  0.061590  0.238095\n",
      "0  0.735722  0.701058  0.064950  0.216931\n",
      "0  0.591265  0.738095  0.067189  0.227513\n",
      "0  0.494401  0.735450  0.066069  0.232804\n",
      "0  0.400336  0.740741  0.066069  0.222222\n",
      "0  0.262038  0.727513  0.062710  0.259259\n",
      "0  0.171333  0.735450  0.064950  0.232804\n",
      "0  0.082307  0.730159  0.063830  0.222222\n"
     ]
    }
   ],
   "source": [
    "print(a)"
   ]
  },
  {
   "cell_type": "code",
   "execution_count": 66,
   "id": "b2b75e09",
   "metadata": {},
   "outputs": [
    {
     "data": {
      "text/plain": [
       "'00.9221720.2804230.0638300.222222\\n00.8297870.2962960.0649500.222222\\n00.7368420.3095240.0649500.238095\\n00.5929450.3015870.0660690.232804\\n00.4972000.3148150.0671890.238095\\n00.4025760.3121690.0683090.232804\\n00.2597980.3174600.0671890.232804\\n00.1674130.3121690.0638300.232804\\n00.0800670.3201060.0615900.227513\\n00.9216130.7116400.0604700.227513\\n00.8281080.7222220.0615900.238095\\n00.7357220.7010580.0649500.216931\\n00.5912650.7380950.0671890.227513\\n00.4944010.7354500.0660690.232804\\n00.4003360.7407410.0660690.222222\\n00.2620380.7275130.0627100.259259\\n00.1713330.7354500.0649500.232804\\n00.0823070.7301590.0638300.222222'"
      ]
     },
     "execution_count": 66,
     "metadata": {},
     "output_type": "execute_result"
    }
   ],
   "source": [
    "a.replace(\" \",\"\")\n"
   ]
  },
  {
   "cell_type": "code",
   "execution_count": 61,
   "id": "b944ae94",
   "metadata": {},
   "outputs": [
    {
     "name": "stdout",
     "output_type": "stream",
     "text": [
      "0  0.922172  0.280423  0.063830  0.222222\n",
      "0  0.829787  0.296296  0.064950  0.222222\n",
      "0  0.736842  0.309524  0.064950  0.238095\n",
      "0  0.592945  0.301587  0.066069  0.232804\n",
      "0  0.497200  0.314815  0.067189  0.238095\n",
      "0  0.402576  0.312169  0.068309  0.232804\n",
      "0  0.259798  0.317460  0.067189  0.232804\n",
      "0  0.167413  0.312169  0.063830  0.232804\n",
      "0  0.080067  0.320106  0.061590  0.227513\n",
      "0  0.921613  0.711640  0.060470  0.227513\n",
      "0  0.828108  0.722222  0.061590  0.238095\n",
      "0  0.735722  0.701058  0.064950  0.216931\n",
      "0  0.591265  0.738095  0.067189  0.227513\n",
      "0  0.494401  0.735450  0.066069  0.232804\n",
      "0  0.400336  0.740741  0.066069  0.222222\n",
      "0  0.262038  0.727513  0.062710  0.259259\n",
      "0  0.171333  0.735450  0.064950  0.232804\n",
      "0  0.082307  0.730159  0.063830  0.222222\n"
     ]
    }
   ],
   "source": [
    "print(a)"
   ]
  },
  {
   "cell_type": "markdown",
   "id": "649a09d6",
   "metadata": {},
   "source": [
    "# Final labelimg flip"
   ]
  },
  {
   "cell_type": "code",
   "execution_count": null,
   "id": "bea13f61",
   "metadata": {},
   "outputs": [],
   "source": [
    "import numpy as np\n",
    "from tabulate import tabulate\n",
    "a = np.loadtxt(\"D:/test 9/70_image_4030_flip.txt\")\n",
    "\n",
    "i=0\n",
    "for ele in a[:,1]:\n",
    "    ele=1-ele\n",
    "    a[i,1]=ele\n",
    "    i+=1\n",
    "print(a)\n",
    "a =  tabulate(a,tablefmt=\"plain\",floatfmt=(\".0f\", \".6f\",\".6f\",\".6f\",\".6f\"),colalign=(\"left\"))\n",
    "print(a)\n",
    "\n",
    "with open('D:/test 9/70_image_4030_flip.txt', 'w') as f:\n",
    "    f.write(a.replace(\"  \",\" \"))\n",
    "\n",
    "\n"
   ]
  }
 ],
 "metadata": {
  "kernelspec": {
   "display_name": "Python 3 (ipykernel)",
   "language": "python",
   "name": "python3"
  },
  "language_info": {
   "codemirror_mode": {
    "name": "ipython",
    "version": 3
   },
   "file_extension": ".py",
   "mimetype": "text/x-python",
   "name": "python",
   "nbconvert_exporter": "python",
   "pygments_lexer": "ipython3",
   "version": "3.8.15"
  }
 },
 "nbformat": 4,
 "nbformat_minor": 5
}
