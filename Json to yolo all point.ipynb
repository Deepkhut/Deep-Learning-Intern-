{
 "cells": [
  {
   "cell_type": "code",
   "execution_count": 1,
   "id": "3bc1e8a4",
   "metadata": {},
   "outputs": [],
   "source": [
    "import json                                                         # this module is used to read json files\n",
    "import os \n",
    "import numpy as np\n"
   ]
  },
  {
   "cell_type": "code",
   "execution_count": 2,
   "id": "1f80bd03",
   "metadata": {},
   "outputs": [],
   "source": [
    "def convert(size, box):\n",
    "    dw = 1./size[0]\n",
    "    dh = 1./size[1]\n",
    "    x = (box[0] + box[1])/2.0\n",
    "    y = (box[2] + box[3])/2.0\n",
    "    w = box[1] - box[0]\n",
    "    h = box[3] - box[2]\n",
    "    x = x*dw\n",
    "    w = w*dw\n",
    "    y = y*dh\n",
    "    h = h*dh\n",
    "    return (x,y,w,h)\n",
    "\n",
    "folder_path = \"D:/JSON to YOLO/JSON/\"    #path of all labelme files\n",
    "o = folder_path.split(\"/\")\n",
    "z= len(o)-2\n",
    "o = o[:z]\n",
    "path = \"/\".join(o)+\"/yolo\"\n"
   ]
  },
  {
   "cell_type": "code",
   "execution_count": 5,
   "id": "487713e5",
   "metadata": {},
   "outputs": [
    {
     "name": "stdout",
     "output_type": "stream",
     "text": [
      "<_io.TextIOWrapper name='D:/JSON to YOLO/yolo/Image106_flip.txt' mode='a' encoding='cp1252'>\n",
      "Image106_flip.json\n",
      "<_io.TextIOWrapper name='D:/JSON to YOLO/yolo/Image80_flip.txt' mode='a' encoding='cp1252'>\n",
      "Image80_flip.json\n",
      "<_io.TextIOWrapper name='D:/JSON to YOLO/yolo/Image81_flip.txt' mode='a' encoding='cp1252'>\n",
      "Image81_flip.json\n",
      "<_io.TextIOWrapper name='D:/JSON to YOLO/yolo/Image86_flip.txt' mode='a' encoding='cp1252'>\n",
      "Image86_flip.json\n",
      "<_io.TextIOWrapper name='D:/JSON to YOLO/yolo/Image87_flip.txt' mode='a' encoding='cp1252'>\n",
      "Image87_flip.json\n"
     ]
    }
   ],
   "source": [
    "\n",
    "files = os.listdir(folder_path)\n",
    "if(os.path.exists(path) == False):\n",
    "    os.mkdir(path)\n",
    "    \n",
    "#\n",
    "for index,file in enumerate(files): \n",
    "    g=file.split(\".\")# for each file in the folder\n",
    "    txt_outfile = open(path+\"/\"+g[0]+\".txt\",\"a\")      #creating labelimg/YOLO files of same name\n",
    "    txt_outfile.close()\n",
    "\n",
    "for index,file in enumerate(files):   \n",
    "    g=file.split(\".\")# for each file in the folder\n",
    "    txt_outfile = open(path+\"/\"+g[0]+\".txt\",\"a\")\n",
    "    print(txt_outfile)\n",
    "#     print(txt_outfile)\n",
    "    with open(f\"{folder_path}/{file}\", \"r+\") as f:\n",
    "        print(file)# you open the file\n",
    "        data = json.load(f)\n",
    "        \n",
    "                \n",
    "        n = len(data['shapes'])\n",
    "        coordinates=[]     #array for all the coordinates\n",
    "        k=[]\n",
    "        a=data['imageHeight']\n",
    "        b=data['imageWidth']\n",
    "        xmin=[]\n",
    "        xmax=[]\n",
    "        ymin=[]\n",
    "        ymax=[]\n",
    "        for item in data[\"shapes\"]:\n",
    "            \n",
    "            label = item[\"label\"]\n",
    "            #print(label)\n",
    "            point = item[\"points\"]\n",
    "            \n",
    "            #print(point)\n",
    "            #print(len(point))\n",
    "            \n",
    "\n",
    "            \n",
    "            txt_outfile.write(\"0\"+\" \"+\" \".join([str(a) for a in point]) + '\\n')\n"
   ]
  },
  {
   "cell_type": "code",
   "execution_count": null,
   "id": "9be469b1",
   "metadata": {},
   "outputs": [],
   "source": []
  }
 ],
 "metadata": {
  "kernelspec": {
   "display_name": "Python 3 (ipykernel)",
   "language": "python",
   "name": "python3"
  },
  "language_info": {
   "codemirror_mode": {
    "name": "ipython",
    "version": 3
   },
   "file_extension": ".py",
   "mimetype": "text/x-python",
   "name": "python",
   "nbconvert_exporter": "python",
   "pygments_lexer": "ipython3",
   "version": "3.8.15"
  }
 },
 "nbformat": 4,
 "nbformat_minor": 5
}
