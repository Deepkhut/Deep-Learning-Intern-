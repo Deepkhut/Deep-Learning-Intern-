{
 "cells": [
  {
   "cell_type": "markdown",
   "id": "8aa61381",
   "metadata": {},
   "source": [
    "# functions "
   ]
  },
  {
   "cell_type": "code",
   "execution_count": 155,
   "id": "2db708ad",
   "metadata": {},
   "outputs": [],
   "source": [
    "# import the necessary packages\n",
    "import numpy as np\n",
    "import cv2\n",
    "def centroid_histogram(clt):\n",
    "\t# grab the number of different clusters and create a histogram\n",
    "\t# based on the number of pixels assigned to each cluster\n",
    "\tnumLabels = np.arange(0, len(np.unique(clt.labels_)) + 1)\n",
    "\t(hist, _) = np.histogram(clt.labels_, bins = numLabels)\n",
    "\t# normalize the histogram, such that it sums to one\n",
    "\thist = hist.astype(\"float\")\n",
    "\thist /= hist.sum()\n",
    "\t# return the histogram\n",
    "\treturn hist"
   ]
  },
  {
   "cell_type": "code",
   "execution_count": 156,
   "id": "6eb91d55",
   "metadata": {},
   "outputs": [],
   "source": [
    "def plot_colors(hist, centroids):\n",
    "\t# initialize the bar chart representing the relative frequency\n",
    "\t# of each of the colors\n",
    "\tbar = np.zeros((50, 300, 3), dtype = \"uint8\")\n",
    "\tstartX = 0\n",
    "\tcolors = []\n",
    "\t# loop over the percentage of each cluster and the color of\n",
    "\t# each cluster\n",
    "\tfor (percent, color) in zip(hist, centroids):\n",
    "\t\t# plot the relative percentage of each cluster\n",
    "\t\tendX = startX + (percent * 300)\n",
    "\t\tcolors.append(color)\n",
    "\t\tcv2.rectangle(bar, (int(startX), 0), (int(endX), 50),\n",
    "\t\t\tcolor.astype(\"uint8\").tolist(), -1)\n",
    "\t\tstartX = endX\n",
    "\t\n",
    "\t# return the bar chart\n",
    "\treturn bar,colors"
   ]
  },
  {
   "cell_type": "markdown",
   "id": "1b6df317",
   "metadata": {},
   "source": [
    "# Contours and cropping for roi"
   ]
  },
  {
   "cell_type": "code",
   "execution_count": 157,
   "id": "4655f238",
   "metadata": {},
   "outputs": [
    {
     "name": "stdout",
     "output_type": "stream",
     "text": [
      "D:/new/defect3/InspectInFrn_1\n",
      "Image Similarity: 73.0118%\n",
      "36 77 92 178\n"
     ]
    }
   ],
   "source": [
    "from skimage.metrics import structural_similarity\n",
    "import cv2\n",
    "import numpy as np\n",
    "import os.path, sys\n",
    "# Load images\n",
    "\n",
    "after =  cv2.imread('D:/new/empty/InspectInFrn_911.bmp') #empty image\n",
    "after_gray = cv2.cvtColor(after, cv2.COLOR_BGR2GRAY)\n",
    "# Convert images to grayscale\n",
    "path = \"D:/new/defect3/\" #folder of the images\n",
    "dirs = os.listdir(path)\n",
    "x1 = []\n",
    "w1 = []\n",
    "y1 = []\n",
    "h1 = []\n",
    "for i in dirs:\n",
    "    if os.path.isfile(path+i):\n",
    "#         im = Image.open(path+i)\n",
    "        f, e = os.path.splitext(path+i)\n",
    "       \n",
    "        print(f)\n",
    "        before = cv2.imread(path+i)\n",
    "        before_gray = cv2.cvtColor(before, cv2.COLOR_BGR2GRAY)\n",
    "\n",
    "        # Compute SSIM between the two images\n",
    "        (score, diff) = structural_similarity(before_gray, after_gray, full=True)\n",
    "        print(\"Image Similarity: {:.4f}%\".format(score * 100))\n",
    "        a,b = i.split(\".\")\n",
    "\n",
    "        # The diff image contains the actual image differences between the two images\n",
    "        # and is represented as a floating point data type in the range [0,1] \n",
    "        # so we must convert the array to 8-bit unsigned integers in the range\n",
    "        # [0,255] before we can use it with OpenCV\n",
    "        diff = (diff * 255).astype(\"uint8\")\n",
    "        diff_box = cv2.merge([diff, diff, diff])\n",
    "\n",
    "        # Threshold the difference image, followed by finding contours to\n",
    "        # obtain the regions of the two input images that differ\n",
    "        thresh = cv2.threshold(diff, 0, 255, cv2.THRESH_BINARY_INV | cv2.THRESH_OTSU)[1]\n",
    "        contours = cv2.findContours(thresh, cv2.RETR_EXTERNAL, cv2.CHAIN_APPROX_SIMPLE)\n",
    "        contours = contours[0] if len(contours) == 2 else contours[1]\n",
    "        \n",
    "        mask = np.zeros(before.shape, dtype='uint8')\n",
    "        filled_after = after.copy()\n",
    "        \n",
    "        for c in contours:\n",
    "            area = cv2.contourArea(c)\n",
    "            if area > 1500:\n",
    "                \n",
    "                x,y,w,h = cv2.boundingRect(c)\n",
    "                cv2.rectangle(before, (x, y), (x + w, y + h), (36,255,12), 2)\n",
    "                print(x,y,x+w,y+h)\n",
    "                x1.append(x)\n",
    "                y1.append(y)\n",
    "                w1.append(w)\n",
    "                h1.append(h)\n",
    "        cv2.imshow('before', before)\n",
    "        cv2.waitKey()\n",
    "       "
   ]
  },
  {
   "cell_type": "code",
   "execution_count": 158,
   "id": "131c3faa",
   "metadata": {},
   "outputs": [
    {
     "name": "stdout",
     "output_type": "stream",
     "text": [
      "[36]\n"
     ]
    }
   ],
   "source": [
    "print(x1)"
   ]
  },
  {
   "cell_type": "markdown",
   "id": "cf0c1212",
   "metadata": {},
   "source": [
    "# Dominant colors"
   ]
  },
  {
   "cell_type": "code",
   "execution_count": 159,
   "id": "a9f13347",
   "metadata": {},
   "outputs": [
    {
     "name": "stdout",
     "output_type": "stream",
     "text": [
      "36\n",
      "3\n"
     ]
    },
    {
     "name": "stderr",
     "output_type": "stream",
     "text": [
      "C:\\Users\\Jekson\\anaconda3\\envs\\label\\lib\\site-packages\\sklearn\\cluster\\_kmeans.py:870: FutureWarning: The default value of `n_init` will change from 10 to 'auto' in 1.4. Set the value of `n_init` explicitly to suppress the warning\n",
      "  warnings.warn(\n"
     ]
    },
    {
     "data": {
      "image/png": "[encoded data removed]",
      "text/plain": [
       "<Figure size 640x480 with 1 Axes>"
      ]
     },
     "metadata": {},
     "output_type": "display_data"
    },
    {
     "data": {
      "image/png": "[encoded data removed]",
      "text/plain": [
       "<Figure size 640x480 with 1 Axes>"
      ]
     },
     "metadata": {},
     "output_type": "display_data"
    }
   ],
   "source": [
    "# import the necessary packages\n",
    "from sklearn.cluster import KMeans\n",
    "import matplotlib.pyplot as plt\n",
    "import argparse\n",
    "import utils\n",
    "import cv2\n",
    "l=0\n",
    "colors1=[]\n",
    "dirs = os.listdir(path)\n",
    "for i in dirs:\n",
    "    if os.path.isfile(path+i):\n",
    "        \n",
    "        print(x1[l])\n",
    "#         im = Image.open(path+i)\n",
    "        f, e = os.path.splitext(path+i)\n",
    "        img = cv2.imread(path+i)\n",
    "        crop = img[y1[l]:y1[l]+h1[l],x1[l]:x1[l]+w1[l]]\n",
    "        image =  crop\n",
    "        image = cv2.cvtColor(image, cv2.COLOR_BGR2RGB)\n",
    "        a,b,c=image.shape\n",
    "        print(c)\n",
    "        # show our image\n",
    "        plt.figure()\n",
    "        plt.axis(\"off\")\n",
    "        plt.imshow(image)\n",
    "        # reshape the image to be a list of pixels\n",
    "        image = image.reshape((image.shape[0] * image.shape[1], 3))\n",
    "        # cluster the pixel intensities\n",
    "        clt = KMeans(n_clusters = 3)\n",
    "        clt.fit(image)\n",
    "        \n",
    "        # build a histogram of clusters and then create a figure\n",
    "        colors = []\n",
    "        hist = centroid_histogram(clt)\n",
    "        bar,colors = plot_colors(hist, clt.cluster_centers_)\n",
    "        # show our color bar\n",
    "        l=l+1\n",
    "        plt.figure()\n",
    "        plt.axis(\"off\")\n",
    "        plt.imshow(bar)\n",
    "        plt.show()\n",
    "\n",
    "        \n",
    "        colors1.append(colors)\n",
    "#         print(colors)"
   ]
  },
  {
   "cell_type": "code",
   "execution_count": 160,
   "id": "963bdc55",
   "metadata": {},
   "outputs": [
    {
     "name": "stdout",
     "output_type": "stream",
     "text": [
      "0 0\n"
     ]
    }
   ],
   "source": [
    "for i in range(len(colors1)):\n",
    "    a = len(colors1)\n",
    "    for j in range(a):\n",
    "        \n",
    "        if(colors1[i][j][0]<10 and colors1[i][j][1]<10 and colors1[i][j][2]<10):\n",
    "            print(i,j)\n",
    "            del(colors1[i][j])\n",
    "            a = a-1\n",
    "            "
   ]
  },
  {
   "cell_type": "code",
   "execution_count": 166,
   "id": "c85a974f",
   "metadata": {},
   "outputs": [
    {
     "name": "stdout",
     "output_type": "stream",
     "text": [
      "[73.70674157 75.83146067 67.35393258]\n"
     ]
    }
   ],
   "source": [
    "print(colors1[0][0])"
   ]
  },
  {
   "cell_type": "markdown",
   "id": "bcd5d2ca",
   "metadata": {},
   "source": [
    "# black color removal\n"
   ]
  },
  {
   "cell_type": "code",
   "execution_count": 163,
   "id": "76646bc4",
   "metadata": {},
   "outputs": [
    {
     "name": "stdout",
     "output_type": "stream",
     "text": [
      "<class 'str'>\n",
      "<class 'str'>\n"
     ]
    }
   ],
   "source": [
    "from PIL import Image\n",
    "from PIL import Image\n",
    "import os.path, sys\n",
    "\n",
    "path = \"D:/new/defect4/\"  #folder of the images\n",
    "dirs = os.listdir(path)\n",
    "empty = Image.open('D:/new/empty/InspectInFrn_911.bmp') #empty image\n",
    "empty = empty.convert(\"RGB\")\n",
    "data = empty.getdata()\n",
    "for i in dirs:\n",
    "    if os.path.isfile(path+i):\n",
    "        im = Image.open(path+i)\n",
    "        f, e = os.path.splitext(path+i)\n",
    "       \n",
    "#         print(im)\n",
    "        img = im.convert(\"RGB\")\n",
    "\n",
    "        datas = img.getdata()\n",
    "        print(type(i))\n",
    "        a,b = i.split(\".\")\n",
    "\n",
    "        new_image_data = []\n",
    "        for i,item in enumerate(datas):\n",
    "            # change all white (also shades of whites) pixels to yellow\n",
    "\n",
    "            if item[0] in list(range(0,1)):\n",
    "                new_image_data.append((data[i]))\n",
    "            else:\n",
    "                new_image_data.append(item)\n",
    "\n",
    "            # update image data\n",
    "        img.putdata(new_image_data)\n",
    "        path1 = path + \"black/\"\n",
    "        if(os.path.exists(path1) == False):\n",
    "            os.mkdir(path1)\n",
    "#         print(path1)\n",
    "                # save new image\n",
    "        img.save(path1+ a+ '_edit' + '.bmp')\n",
    "\n",
    "# show image in preview\n",
    "# plt.imshow(img)"
   ]
  },
  {
   "cell_type": "code",
   "execution_count": 170,
   "id": "5b8b5033",
   "metadata": {},
   "outputs": [
    {
     "name": "stdout",
     "output_type": "stream",
     "text": [
      "133.70674157303358\n"
     ]
    }
   ],
   "source": [
    "print(colors[0][0]+60)"
   ]
  },
  {
   "cell_type": "markdown",
   "id": "560b39d4",
   "metadata": {},
   "source": [
    "# reflection removal"
   ]
  },
  {
   "cell_type": "code",
   "execution_count": 176,
   "id": "801c6825",
   "metadata": {},
   "outputs": [],
   "source": [
    "from PIL import Image\n",
    "import os.path, sys\n",
    "\n",
    "path1 = path + \"black/\"  #folder of the images\n",
    "dirs = os.listdir(path1)\n",
    "empty = Image.open('D:/new/empty/InspectInFrn_911.bmp') #empty image\n",
    "empty = empty.convert(\"RGB\")\n",
    "data = empty.getdata()\n",
    "for i in dirs:\n",
    "    if os.path.isfile(path1+i):\n",
    "        im = Image.open(path1+i)\n",
    "        f, e = os.path.splitext(path1+i)\n",
    "       \n",
    "     \n",
    "        img = im.convert(\"RGB\")\n",
    "\n",
    "        datas = img.getdata()\n",
    "  \n",
    "        a,b = i.split(\".\")\n",
    "\n",
    "        new_image_data = []\n",
    "        for i,item in enumerate(datas):\n",
    "            # change all white (also shades of whites) pixels to yellow\n",
    "            \n",
    "            if item[0] in list(range(int(colors1[0][0][0]-20),int(colors1[0][0][0]+60))) and item[1] in list(range(int(colors1[0][0][1]-20),int(colors1[0][0][1]+60))) and item[2] in list(range(int(colors1[0][0][2]-20),int(colors1[0][0][2]+60))):\n",
    "                new_image_data.append((data[i]))\n",
    "            elif item[0] in list(range(int(colors1[0][1][0]-20),int(colors1[0][1][0]+60))) and item[1] in list(range(int(colors1[0][1][1]-20),int(colors1[0][1][1]+60))) and item[2] in list(range(int(colors1[0][1][2]-20),int(colors1[0][1][2]+60))):\n",
    "                new_image_data.append((data[i]))\n",
    "#                 print(i)\n",
    "            else:\n",
    "                new_image_data.append(item)\n",
    "\n",
    "            # update image data\n",
    "        img.putdata(new_image_data)\n",
    "        path2 = path + \"reflection_remove/\"\n",
    "        if(os.path.exists(path2) == False):\n",
    "            os.mkdir(path2)\n",
    "#         print(path1)\n",
    "                # save new image\n",
    "        img.save(path2+ a+ '_edit_reflection' + '.bmp')\n",
    "\n",
    "# show image in preview\n",
    "# plt.imshow(img)"
   ]
  },
  {
   "cell_type": "markdown",
   "id": "f016bf1b",
   "metadata": {},
   "source": [
    "# Structural difference"
   ]
  },
  {
   "cell_type": "code",
   "execution_count": 177,
   "id": "adacdc81",
   "metadata": {},
   "outputs": [
    {
     "name": "stdout",
     "output_type": "stream",
     "text": [
      "D:/new/defect4/reflection_remove/InspectInFrn_371_edit_edit_reflection\n",
      "Image Similarity: 95.5885%\n",
      "D:/new/defect4/reflection_remove/InspectInFrn_371_edit_edit_reflection\n",
      "D:/new/defect4/reflection_remove/InspectInFrn_373_edit_edit_reflection\n",
      "Image Similarity: 93.0209%\n",
      "D:/new/defect4/reflection_remove/InspectInFrn_373_edit_edit_reflection\n"
     ]
    }
   ],
   "source": [
    "from skimage.metrics import structural_similarity\n",
    "import cv2\n",
    "import numpy as np\n",
    "import os.path, sys\n",
    "# Load images\n",
    "\n",
    "after =  cv2.imread('D:/new/empty/InspectInFrn_911.bmp') #empty image\n",
    "after_gray = cv2.cvtColor(after, cv2.COLOR_BGR2GRAY)\n",
    "# Convert images to grayscale\n",
    "path4 = path2 #folder of the images\n",
    "dirs = os.listdir(path4)\n",
    "for i in dirs:\n",
    "    if os.path.isfile(path4+i):\n",
    "#         im = Image.open(path+i)\n",
    "        f, e = os.path.splitext(path4+i)\n",
    "\n",
    "        print(f)\n",
    "        before = cv2.imread(path4+i)\n",
    "        before_gray = cv2.cvtColor(before, cv2.COLOR_BGR2GRAY)\n",
    "\n",
    "        # Compute SSIM between the two images\n",
    "        (score, diff) = structural_similarity(before_gray, after_gray, full=True)\n",
    "        print(\"Image Similarity: {:.4f}%\".format(score * 100))\n",
    "        a,b = i.split(\".\")\n",
    "\n",
    "        # The diff image contains the actual image differences between the two images\n",
    "        # and is represented as a floating point data type in the range [0,1] \n",
    "        # so we must convert the array to 8-bit unsigned integers in the range\n",
    "        # [0,255] before we can use it with OpenCV\n",
    "        diff = (diff * 255).astype(\"uint8\")\n",
    "        diff_box = cv2.merge([diff, diff, diff])\n",
    "\n",
    "        # Threshold the difference image, followed by finding contours to\n",
    "        # obtain the regions of the two input images that differ\n",
    "        thresh = cv2.threshold(diff, 0, 255, cv2.THRESH_BINARY_INV | cv2.THRESH_OTSU)[1]\n",
    "        contours = cv2.findContours(thresh, cv2.RETR_EXTERNAL, cv2.CHAIN_APPROX_SIMPLE)\n",
    "        contours = contours[0] if len(contours) == 2 else contours[1]\n",
    "\n",
    "        mask = np.zeros(before.shape, dtype='uint8')\n",
    "        filled_after = after.copy()\n",
    "\n",
    "        for c in contours:\n",
    "            area = cv2.contourArea(c)\n",
    "            if area > 800:\n",
    "                x,y,w,h = cv2.boundingRect(c)\n",
    "                cv2.rectangle(before, (x, y), (x + w, y + h), (36,255,12), 2)\n",
    "                cv2.rectangle(after, (x, y), (x + w, y + h), (36,255,12), 2)\n",
    "                cv2.rectangle(diff_box, (x, y), (x + w, y + h), (36,255,12), 2)\n",
    "                cv2.drawContours(mask, [c], 0, (255,255,255), -1)\n",
    "                cv2.drawContours(filled_after, [c], 0, (0,255,0), -1)\n",
    "        print(f)\n",
    "        path3 = path + \"difference/\"\n",
    "        if(os.path.exists(path3) == False):\n",
    "            os.mkdir(path3)\n",
    "        cv2.imwrite(path3 + a + '_before' + '.bmp',before)\n",
    "        cv2.imwrite(path3 + a + '_mask' + '.bmp',mask)\n",
    "        cv2.imshow('before', before)\n",
    "        cv2.imshow('after', after)\n",
    "        cv2.imshow('diff', diff)\n",
    "        cv2.imshow('diff_box', diff_box)\n",
    "        cv2.imshow('mask', mask)\n",
    "        cv2.imshow('filled after', filled_after)\n",
    "        \n",
    "        cv2.waitKey()\n",
    "       "
   ]
  },
  {
   "cell_type": "code",
   "execution_count": 1,
   "id": "489a7a7f",
   "metadata": {},
   "outputs": [],
   "source": [
    "import cvat_sdk"
   ]
  },
  {
   "cell_type": "code",
   "execution_count": 2,
   "id": "43110dd4",
   "metadata": {},
   "outputs": [
    {
     "name": "stdout",
     "output_type": "stream",
     "text": [
      "Requirement already satisfied: cvat-sdk[pytorch] in c:\\users\\jekson\\anaconda3\\envs\\label\\lib\\site-packages (2.3.0)\n",
      "Requirement already satisfied: tqdm>=4.64.0 in c:\\users\\jekson\\anaconda3\\envs\\label\\lib\\site-packages (from cvat-sdk[pytorch]) (4.64.1)\n",
      "Requirement already satisfied: typing-extensions>=4.2.0 in c:\\users\\jekson\\anaconda3\\envs\\label\\lib\\site-packages (from cvat-sdk[pytorch]) (4.5.0)\n",
      "Requirement already satisfied: attrs>=21.4.0 in c:\\users\\jekson\\anaconda3\\envs\\label\\lib\\site-packages (from cvat-sdk[pytorch]) (22.2.0)\n",
      "Requirement already satisfied: setuptools>=21.0.0 in c:\\users\\jekson\\anaconda3\\envs\\label\\lib\\site-packages (from cvat-sdk[pytorch]) (65.6.3)\n",
      "Requirement already satisfied: python-dateutil>=2.5.3 in c:\\users\\jekson\\anaconda3\\envs\\label\\lib\\site-packages (from cvat-sdk[pytorch]) (2.8.2)\n",
      "Requirement already satisfied: urllib3>=1.25.3 in c:\\users\\jekson\\anaconda3\\envs\\label\\lib\\site-packages (from cvat-sdk[pytorch]) (1.26.14)\n",
      "Requirement already satisfied: packaging>=21.3 in c:\\users\\jekson\\anaconda3\\envs\\label\\lib\\site-packages (from cvat-sdk[pytorch]) (23.0)\n",
      "Requirement already satisfied: Pillow>=9.0.1 in c:\\users\\jekson\\anaconda3\\envs\\label\\lib\\site-packages (from cvat-sdk[pytorch]) (9.4.0)\n",
      "Requirement already satisfied: tuspy==0.2.5 in c:\\users\\jekson\\anaconda3\\envs\\label\\lib\\site-packages (from cvat-sdk[pytorch]) (0.2.5)\n",
      "Collecting torch\n",
      "  Downloading torch-1.13.1-cp38-cp38-win_amd64.whl (162.6 MB)\n",
      "     -------------------------------------- 162.6/162.6 MB 1.7 MB/s eta 0:00:00\n",
      "Collecting torchvision\n",
      "  Downloading torchvision-0.14.1-cp38-cp38-win_amd64.whl (1.1 MB)\n",
      "     ---------------------------------------- 1.1/1.1 MB 2.8 MB/s eta 0:00:00\n",
      "Collecting appdirs\n",
      "  Downloading appdirs-1.4.4-py2.py3-none-any.whl (9.6 kB)\n",
      "Requirement already satisfied: future>=0.16.0 in c:\\users\\jekson\\anaconda3\\envs\\label\\lib\\site-packages (from tuspy==0.2.5->cvat-sdk[pytorch]) (0.18.3)\n",
      "Requirement already satisfied: certifi>=2018.1.18 in c:\\users\\jekson\\anaconda3\\envs\\label\\lib\\site-packages (from tuspy==0.2.5->cvat-sdk[pytorch]) (2022.12.7)\n",
      "Requirement already satisfied: tinydb>=3.5.0 in c:\\users\\jekson\\anaconda3\\envs\\label\\lib\\site-packages (from tuspy==0.2.5->cvat-sdk[pytorch]) (4.7.1)\n",
      "Requirement already satisfied: requests>=2.18.4 in c:\\users\\jekson\\anaconda3\\envs\\label\\lib\\site-packages (from tuspy==0.2.5->cvat-sdk[pytorch]) (2.28.2)\n",
      "Requirement already satisfied: six>=1.11.0 in c:\\users\\jekson\\anaconda3\\envs\\label\\lib\\site-packages (from tuspy==0.2.5->cvat-sdk[pytorch]) (1.16.0)\n",
      "Requirement already satisfied: colorama in c:\\users\\jekson\\anaconda3\\envs\\label\\lib\\site-packages (from tqdm>=4.64.0->cvat-sdk[pytorch]) (0.4.6)\n",
      "Requirement already satisfied: numpy in c:\\users\\jekson\\anaconda3\\envs\\label\\lib\\site-packages (from torchvision->cvat-sdk[pytorch]) (1.24.1)\n",
      "Requirement already satisfied: idna<4,>=2.5 in c:\\users\\jekson\\anaconda3\\envs\\label\\lib\\site-packages (from requests>=2.18.4->tuspy==0.2.5->cvat-sdk[pytorch]) (3.4)\n",
      "Requirement already satisfied: charset-normalizer<4,>=2 in c:\\users\\jekson\\anaconda3\\envs\\label\\lib\\site-packages (from requests>=2.18.4->tuspy==0.2.5->cvat-sdk[pytorch]) (3.0.1)\n",
      "Installing collected packages: appdirs, torch, torchvision\n",
      "Successfully installed appdirs-1.4.4 torch-1.13.1 torchvision-0.14.1\n",
      "Note: you may need to restart the kernel to use updated packages.\n"
     ]
    }
   ],
   "source": [
    "pip install \"cvat-sdk[pytorch]\""
   ]
  },
  {
   "cell_type": "code",
   "execution_count": 1,
   "id": "9eac00c1",
   "metadata": {
    "scrolled": true
   },
   "outputs": [],
   "source": [
    "from cvat_sdk.api_client.api.auth_api import AuthApi"
   ]
  },
  {
   "cell_type": "code",
   "execution_count": 2,
   "id": "b7733d19",
   "metadata": {},
   "outputs": [
    {
     "ename": "NameError",
     "evalue": "name 'cvat' is not defined",
     "output_type": "error",
     "traceback": [
      "\u001b[1;31m---------------------------------------------------------------------------\u001b[0m",
      "\u001b[1;31mNameError\u001b[0m                                 Traceback (most recent call last)",
      "Cell \u001b[1;32mIn[2], line 1\u001b[0m\n\u001b[1;32m----> 1\u001b[0m \u001b[43mcvat\u001b[49m\u001b[38;5;241m-\u001b[39mcli\n",
      "\u001b[1;31mNameError\u001b[0m: name 'cvat' is not defined"
     ]
    }
   ],
   "source": [
    "from cvat_sdk.api_client.api.cloudstorages_api import CloudstoragesApi\n",
    "from cvat_sdk.api_client.api.comments_api import CommentsApi\n",
    "from cvat_sdk.api_client.api.invitations_api import InvitationsApi\n",
    "from cvat_sdk.api_client.api.issues_api import IssuesApi"
   ]
  },
  {
   "cell_type": "code",
   "execution_count": 4,
   "id": "251b8510",
   "metadata": {},
   "outputs": [],
   "source": [
    "from cvat_sdk.api_client.api.issues_api import IssuesApi\n",
    "from cvat_sdk.api_client.api.jobs_api import JobsApi\n",
    "from cvat_sdk.api_client.api.lambda_api import LambdaApi\n",
    "from cvat_sdk.api_client.api.memberships_api import MembershipsApi\n",
    "from cvat_sdk.api_client.api.organizations_api import OrganizationsApi\n",
    "from cvat_sdk.api_client.api.projects_api import ProjectsApi\n",
    "from cvat_sdk.api_client.api.schema_api import SchemaApi\n",
    "from cvat_sdk.api_client.api.server_api import ServerApi\n",
    "from cvat_sdk.api_client.api.tasks_api import TasksApi\n",
    "from cvat_sdk.api_client.api.users_api import UsersApi\n",
    "from cvat_sdk.api_client.api.webhooks_api import WebhooksApi"
   ]
  },
  {
   "cell_type": "code",
   "execution_count": null,
   "id": "9ee3272e",
   "metadata": {},
   "outputs": [],
   "source": [
    "conda run cvat-cli"
   ]
  },
  {
   "cell_type": "code",
   "execution_count": null,
   "id": "8f63d430",
   "metadata": {},
   "outputs": [],
   "source": []
  }
 ],
 "metadata": {
  "kernelspec": {
   "display_name": "Python 3 (ipykernel)",
   "language": "python",
   "name": "python3"
  },
  "language_info": {
   "codemirror_mode": {
    "name": "ipython",
    "version": 3
   },
   "file_extension": ".py",
   "mimetype": "text/x-python",
   "name": "python",
   "nbconvert_exporter": "python",
   "pygments_lexer": "ipython3",
   "version": "3.8.15"
  }
 },
 "nbformat": 4,
 "nbformat_minor": 5
}
